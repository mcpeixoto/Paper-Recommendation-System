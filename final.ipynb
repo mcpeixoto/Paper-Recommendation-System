{
 "cells": [
  {
   "cell_type": "code",
   "execution_count": 1,
   "metadata": {},
   "outputs": [],
   "source": [
    "from data_handling import get_data\n",
    "from sentence_transformers import SentenceTransformer\n",
    "import pandas as pd\n",
    "import numpy as np\n",
    "from tqdm.notebook import tqdm\n",
    "import matplotlib.pyplot as plt\n",
    "import seaborn as sns\n",
    "import faiss\n",
    "from os.path import exists"
   ]
  },
  {
   "attachments": {},
   "cell_type": "markdown",
   "metadata": {},
   "source": [
    "# Data"
   ]
  },
  {
   "cell_type": "code",
   "execution_count": null,
   "metadata": {},
   "outputs": [],
   "source": [
    "data = get_data()\n",
    "data.head()"
   ]
  },
  {
   "cell_type": "code",
   "execution_count": null,
   "metadata": {},
   "outputs": [],
   "source": [
    "data['text'] = data['title'] + \" \" + data['abstract']"
   ]
  },
  {
   "attachments": {},
   "cell_type": "markdown",
   "metadata": {},
   "source": [
    "# Model"
   ]
  },
  {
   "cell_type": "code",
   "execution_count": null,
   "metadata": {},
   "outputs": [],
   "source": [
    "model = SentenceTransformer('all-mpnet-base-v2', device='cuda')\n",
    "model"
   ]
  },
  {
   "attachments": {},
   "cell_type": "markdown",
   "metadata": {},
   "source": [
    "#### Max Sequence Length"
   ]
  },
  {
   "cell_type": "code",
   "execution_count": null,
   "metadata": {},
   "outputs": [],
   "source": [
    "# Count number of words in text column\n",
    "data['text'].apply(lambda x: len(x.split(' '))).hist(bins=30)\n",
    "plt.yscale('log')\n",
    "plt.vlines(384, 0, 10**6, colors='red')"
   ]
  },
  {
   "attachments": {},
   "cell_type": "markdown",
   "metadata": {},
   "source": [
    "# Faiss"
   ]
  },
  {
   "cell_type": "code",
   "execution_count": null,
   "metadata": {},
   "outputs": [],
   "source": [
    "model.encode(data['text'].values[0]).shape"
   ]
  },
  {
   "cell_type": "code",
   "execution_count": null,
   "metadata": {},
   "outputs": [],
   "source": [
    "class FaissIdx:\n",
    "    def __init__(self, model, dim=768):\n",
    "        # Maintaining the document data\n",
    "        # self.doc_map = dict()\n",
    "        self.model = model\n",
    "\n",
    "        # Initialize the index\n",
    "        self.index = faiss.IndexFlatIP(dim)\n",
    "\n",
    "        # Use GPU\n",
    "        res = faiss.StandardGpuResources()\n",
    "        self.index = faiss.index_cpu_to_gpu(res, 0, self.index)\n",
    "\n",
    "    def add_doc(self, document_text):\n",
    "        batch_size = 256\n",
    "\n",
    "        for i in tqdm(range(0, len(document_text), batch_size), desc=\"Adding documents to index\", unit=\"batch\"):\n",
    "            self.index.add(self.model.encode(document_text[i:i+batch_size]))\n",
    "\n",
    "        #self.doc_map[self.ctr] = document_text # store the original document text\n",
    "\n",
    "        #def search_doc(self, query, k=3):\n",
    "        #    D, I = self.index.search(self.model.encode(query).reshape(1, -1), k)\n",
    "        #    return [{self.doc_map[idx]: score} for idx, score in zip(I[0], D[0]) if idx in self.doc_map]\n",
    "\n",
    "    def load_index(self, index_path):\n",
    "        # Convert index to cpu\n",
    "        index.index = faiss.index_gpu_to_cpu(index.index)\n",
    "        self.index = faiss.read_index(index_path)\n",
    "        self.ctr = self.index.ntotal\n",
    "        # Convert index back to gpu\n",
    "        res = faiss.StandardGpuResources()\n",
    "        self.index = faiss.index_cpu_to_gpu(res, 0, self.index)\n",
    "\n",
    "    def save_index(self, index_path):\n",
    "        # Convert index to cpu\n",
    "        index.index = faiss.index_gpu_to_cpu(index.index)\n",
    "        faiss.write_index(self.index, index_path)\n",
    "        # Convert index back to gpu\n",
    "        res = faiss.StandardGpuResources()\n",
    "        self.index = faiss.index_cpu_to_gpu(res, 0, self.index)\n",
    "    \n",
    "index = FaissIdx(model)"
   ]
  },
  {
   "cell_type": "code",
   "execution_count": null,
   "metadata": {},
   "outputs": [],
   "source": [
    "# If index exists, load it\n",
    "if exists('faiss_index.faiss'):\n",
    "    print(\"Loading index...\")\n",
    "    index.load_index('index.faiss')"
   ]
  },
  {
   "attachments": {},
   "cell_type": "markdown",
   "metadata": {},
   "source": [
    "#### Add to index"
   ]
  },
  {
   "cell_type": "code",
   "execution_count": null,
   "metadata": {},
   "outputs": [],
   "source": [
    "#text_data = text_data[:1000]"
   ]
  },
  {
   "cell_type": "code",
   "execution_count": null,
   "metadata": {},
   "outputs": [],
   "source": [
    "text_data = data['text'].values\n",
    "#text_data = text_data[:1000]"
   ]
  },
  {
   "cell_type": "code",
   "execution_count": null,
   "metadata": {},
   "outputs": [],
   "source": [
    "index.add_doc(text_data)"
   ]
  },
  {
   "cell_type": "code",
   "execution_count": null,
   "metadata": {},
   "outputs": [],
   "source": [
    "index.save_index('index.faiss')"
   ]
  },
  {
   "cell_type": "code",
   "execution_count": null,
   "metadata": {},
   "outputs": [],
   "source": [
    "# Load index\n",
    "index.load_index('index.faiss')"
   ]
  },
  {
   "cell_type": "code",
   "execution_count": null,
   "metadata": {},
   "outputs": [],
   "source": [
    "# Search for similar documents\n",
    "query = \"Neural networks\""
   ]
  },
  {
   "cell_type": "code",
   "execution_count": null,
   "metadata": {},
   "outputs": [],
   "source": [
    "D, I = index.index.search(index.model.encode(query).reshape(1, -1), 3)"
   ]
  },
  {
   "cell_type": "code",
   "execution_count": null,
   "metadata": {},
   "outputs": [],
   "source": [
    "[(data.iloc[idx].title, score) for idx, score in zip(I[0], D[0]) if idx in list(data.index)]"
   ]
  },
  {
   "cell_type": "code",
   "execution_count": null,
   "metadata": {},
   "outputs": [],
   "source": [
    "I.shape, D.shape"
   ]
  },
  {
   "cell_type": "code",
   "execution_count": null,
   "metadata": {},
   "outputs": [],
   "source": []
  }
 ],
 "metadata": {
  "kernelspec": {
   "display_name": ".sentence_recommender",
   "language": "python",
   "name": "python3"
  },
  "language_info": {
   "codemirror_mode": {
    "name": "ipython",
    "version": 3
   },
   "file_extension": ".py",
   "mimetype": "text/x-python",
   "name": "python",
   "nbconvert_exporter": "python",
   "pygments_lexer": "ipython3",
   "version": "3.10.9"
  },
  "orig_nbformat": 4,
  "vscode": {
   "interpreter": {
    "hash": "e254b791cb69b84f34f959f615ade83777b2d3a3e210593f256341f710b407ae"
   }
  }
 },
 "nbformat": 4,
 "nbformat_minor": 2
}
