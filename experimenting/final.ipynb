{
 "cells": [
  {
   "cell_type": "code",
   "execution_count": 1,
   "metadata": {},
   "outputs": [],
   "source": [
    "from data_handling import get_data\n",
    "from sentence_transformers import SentenceTransformer\n",
    "import pandas as pd\n",
    "import numpy as np\n",
    "from tqdm.notebook import tqdm\n",
    "import matplotlib.pyplot as plt\n",
    "import seaborn as sns\n",
    "import faiss\n",
    "from os.path import exists"
   ]
  },
  {
   "attachments": {},
   "cell_type": "markdown",
   "metadata": {},
   "source": [
    "# Data"
   ]
  },
  {
   "cell_type": "code",
   "execution_count": 8,
   "metadata": {},
   "outputs": [
    {
     "data": {
      "text/html": [
       "<div>\n",
       "<style scoped>\n",
       "    .dataframe tbody tr th:only-of-type {\n",
       "        vertical-align: middle;\n",
       "    }\n",
       "\n",
       "    .dataframe tbody tr th {\n",
       "        vertical-align: top;\n",
       "    }\n",
       "\n",
       "    .dataframe thead th {\n",
       "        text-align: right;\n",
       "    }\n",
       "</style>\n",
       "<table border=\"1\" class=\"dataframe\">\n",
       "  <thead>\n",
       "    <tr style=\"text-align: right;\">\n",
       "      <th></th>\n",
       "      <th>abstract</th>\n",
       "      <th>title</th>\n",
       "      <th>url</th>\n",
       "    </tr>\n",
       "  </thead>\n",
       "  <tbody>\n",
       "    <tr>\n",
       "      <th>0</th>\n",
       "      <td>A fully differential calculation in perturba...</td>\n",
       "      <td>Calculation of prompt diphoton production cros...</td>\n",
       "      <td>https://arxiv.org/abs/0704.0001</td>\n",
       "    </tr>\n",
       "    <tr>\n",
       "      <th>1</th>\n",
       "      <td>We describe a new algorithm, the $(k,\\ell)$-...</td>\n",
       "      <td>Sparsity-certifying Graph Decompositions</td>\n",
       "      <td>https://arxiv.org/abs/0704.0002</td>\n",
       "    </tr>\n",
       "    <tr>\n",
       "      <th>2</th>\n",
       "      <td>The evolution of Earth-Moon system is descri...</td>\n",
       "      <td>The evolution of the Earth-Moon system based o...</td>\n",
       "      <td>https://arxiv.org/abs/0704.0003</td>\n",
       "    </tr>\n",
       "    <tr>\n",
       "      <th>3</th>\n",
       "      <td>We show that a determinant of Stirling cycle...</td>\n",
       "      <td>A determinant of Stirling cycle numbers counts...</td>\n",
       "      <td>https://arxiv.org/abs/0704.0004</td>\n",
       "    </tr>\n",
       "    <tr>\n",
       "      <th>4</th>\n",
       "      <td>In this paper we show how to compute the $\\L...</td>\n",
       "      <td>From dyadic $\\Lambda_{\\alpha}$ to $\\Lambda_{\\a...</td>\n",
       "      <td>https://arxiv.org/abs/0704.0005</td>\n",
       "    </tr>\n",
       "  </tbody>\n",
       "</table>\n",
       "</div>"
      ],
      "text/plain": [
       "                                            abstract  \\\n",
       "0    A fully differential calculation in perturba...   \n",
       "1    We describe a new algorithm, the $(k,\\ell)$-...   \n",
       "2    The evolution of Earth-Moon system is descri...   \n",
       "3    We show that a determinant of Stirling cycle...   \n",
       "4    In this paper we show how to compute the $\\L...   \n",
       "\n",
       "                                               title  \\\n",
       "0  Calculation of prompt diphoton production cros...   \n",
       "1           Sparsity-certifying Graph Decompositions   \n",
       "2  The evolution of the Earth-Moon system based o...   \n",
       "3  A determinant of Stirling cycle numbers counts...   \n",
       "4  From dyadic $\\Lambda_{\\alpha}$ to $\\Lambda_{\\a...   \n",
       "\n",
       "                               url  \n",
       "0  https://arxiv.org/abs/0704.0001  \n",
       "1  https://arxiv.org/abs/0704.0002  \n",
       "2  https://arxiv.org/abs/0704.0003  \n",
       "3  https://arxiv.org/abs/0704.0004  \n",
       "4  https://arxiv.org/abs/0704.0005  "
      ]
     },
     "execution_count": 8,
     "metadata": {},
     "output_type": "execute_result"
    }
   ],
   "source": [
    "data = get_data()\n",
    "data.head()"
   ]
  },
  {
   "cell_type": "code",
   "execution_count": 9,
   "metadata": {},
   "outputs": [],
   "source": [
    "data['text'] = data['title'] + \" \" + data['abstract']"
   ]
  },
  {
   "attachments": {},
   "cell_type": "markdown",
   "metadata": {},
   "source": [
    "# Model"
   ]
  },
  {
   "cell_type": "code",
   "execution_count": 2,
   "metadata": {},
   "outputs": [
    {
     "data": {
      "text/plain": [
       "SentenceTransformer(\n",
       "  (0): Transformer({'max_seq_length': 384, 'do_lower_case': False}) with Transformer model: MPNetModel \n",
       "  (1): Pooling({'word_embedding_dimension': 768, 'pooling_mode_cls_token': False, 'pooling_mode_mean_tokens': True, 'pooling_mode_max_tokens': False, 'pooling_mode_mean_sqrt_len_tokens': False})\n",
       "  (2): Normalize()\n",
       ")"
      ]
     },
     "execution_count": 2,
     "metadata": {},
     "output_type": "execute_result"
    }
   ],
   "source": [
    "model = SentenceTransformer('all-mpnet-base-v2')\n",
    "model"
   ]
  },
  {
   "attachments": {},
   "cell_type": "markdown",
   "metadata": {},
   "source": [
    "#### Max Sequence Length"
   ]
  },
  {
   "cell_type": "code",
   "execution_count": null,
   "metadata": {},
   "outputs": [],
   "source": [
    "# Count number of words in text column\n",
    "data['text'].apply(lambda x: len(x.split(' '))).hist(bins=30)\n",
    "plt.yscale('log')\n",
    "plt.vlines(384, 0, 10**6, colors='red')"
   ]
  },
  {
   "attachments": {},
   "cell_type": "markdown",
   "metadata": {},
   "source": [
    "# Faiss"
   ]
  },
  {
   "cell_type": "code",
   "execution_count": null,
   "metadata": {},
   "outputs": [],
   "source": [
    "model.encode(data['text'].values[0]).shape"
   ]
  },
  {
   "cell_type": "code",
   "execution_count": 3,
   "metadata": {},
   "outputs": [],
   "source": [
    "class FaissIdx:\n",
    "    def __init__(self, model, dim=768):\n",
    "        # Maintaining the document data\n",
    "        # self.doc_map = dict()\n",
    "        self.model = model\n",
    "\n",
    "        # Initialize the index\n",
    "        self.index = faiss.IndexFlatIP(dim)\n",
    "\n",
    "        # Use GPU\n",
    "        res = faiss.StandardGpuResources()\n",
    "        self.index = faiss.index_cpu_to_gpu(res, 0, self.index)\n",
    "\n",
    "    def add_doc(self, document_text):\n",
    "        batch_size = 256\n",
    "\n",
    "        for i in tqdm(range(0, len(document_text), batch_size), desc=\"Adding documents to index\", unit=\"batch\"):\n",
    "            self.index.add(self.model.encode(document_text[i:i+batch_size]))\n",
    "\n",
    "        #self.doc_map[self.ctr] = document_text # store the original document text\n",
    "\n",
    "        #def search_doc(self, query, k=3):\n",
    "        #    D, I = self.index.search(self.model.encode(query).reshape(1, -1), k)\n",
    "        #    return [{self.doc_map[idx]: score} for idx, score in zip(I[0], D[0]) if idx in self.doc_map]\n",
    "\n",
    "    def load_index(self, index_path):\n",
    "        # Convert index to cpu\n",
    "        index.index = faiss.index_gpu_to_cpu(index.index)\n",
    "        self.index = faiss.read_index(index_path)\n",
    "        self.ctr = self.index.ntotal\n",
    "        # Convert index back to gpu\n",
    "        res = faiss.StandardGpuResources()\n",
    "        self.index = faiss.index_cpu_to_gpu(res, 0, self.index)\n",
    "\n",
    "    def save_index(self, index_path):\n",
    "        # Convert index to cpu\n",
    "        index.index = faiss.index_gpu_to_cpu(index.index)\n",
    "        faiss.write_index(self.index, index_path)\n",
    "        # Convert index back to gpu\n",
    "        res = faiss.StandardGpuResources()\n",
    "        self.index = faiss.index_cpu_to_gpu(res, 0, self.index)\n",
    "    \n",
    "index = FaissIdx(model)"
   ]
  },
  {
   "cell_type": "code",
   "execution_count": 4,
   "metadata": {},
   "outputs": [
    {
     "data": {
      "text/plain": [
       "565241"
      ]
     },
     "execution_count": 4,
     "metadata": {},
     "output_type": "execute_result"
    }
   ],
   "source": [
    "index.load_index('index.faiss')\n",
    "index.ctr"
   ]
  },
  {
   "cell_type": "code",
   "execution_count": null,
   "metadata": {},
   "outputs": [],
   "source": [
    "# If index exists, load it\n",
    "if exists('faiss_index.faiss'):\n",
    "    print(\"Loading index...\")\n",
    "    index.load_index('index.faiss')"
   ]
  },
  {
   "attachments": {},
   "cell_type": "markdown",
   "metadata": {},
   "source": [
    "#### Add to index"
   ]
  },
  {
   "cell_type": "code",
   "execution_count": null,
   "metadata": {},
   "outputs": [],
   "source": [
    "#text_data = text_data[:1000]"
   ]
  },
  {
   "cell_type": "code",
   "execution_count": null,
   "metadata": {},
   "outputs": [],
   "source": [
    "text_data = data['text'].values\n",
    "#text_data = text_data[:1000]"
   ]
  },
  {
   "cell_type": "code",
   "execution_count": null,
   "metadata": {},
   "outputs": [],
   "source": [
    "index.add_doc(text_data)"
   ]
  },
  {
   "cell_type": "code",
   "execution_count": null,
   "metadata": {},
   "outputs": [],
   "source": [
    "index.save_index('index.faiss')"
   ]
  },
  {
   "cell_type": "code",
   "execution_count": null,
   "metadata": {},
   "outputs": [],
   "source": [
    "# Load index\n",
    "index.load_index('index.faiss')"
   ]
  },
  {
   "cell_type": "code",
   "execution_count": 5,
   "metadata": {},
   "outputs": [],
   "source": [
    "# Search for similar documents\n",
    "query = \"Neural networks\""
   ]
  },
  {
   "cell_type": "code",
   "execution_count": 6,
   "metadata": {},
   "outputs": [],
   "source": [
    "D, I = index.index.search(index.model.encode(query).reshape(1, -1), 3)"
   ]
  },
  {
   "cell_type": "code",
   "execution_count": 10,
   "metadata": {},
   "outputs": [
    {
     "data": {
      "text/plain": [
       "[('Neural Networks for Complex Data', 0.5609818),\n",
       " ('Neural Networks for Handwritten English Alphabet Recognition', 0.5540364),\n",
       " ('Computer Model of a \"Sense of Humour\". II. Realization in Neural\\n  Networks',\n",
       "  0.54914415)]"
      ]
     },
     "execution_count": 10,
     "metadata": {},
     "output_type": "execute_result"
    }
   ],
   "source": [
    "[(data.iloc[idx].title, score) for idx, score in zip(I[0], D[0]) if idx in list(data.index)]"
   ]
  },
  {
   "cell_type": "code",
   "execution_count": 14,
   "metadata": {},
   "outputs": [
    {
     "data": {
      "text/plain": [
       "[('Automatic anomaly detection in high energy collider data', 0.777464),\n",
       " ('Semi-Supervised Anomaly Detection - Towards Model-Independent Searches\\n  of New Physics',\n",
       "  0.7767359),\n",
       " ('New physics searches for the LHC', 0.71976817),\n",
       " ('Exotic Searches at LHC and Tevatron', 0.7023321),\n",
       " ('Model Independent Searches for New Physics at the Fermilab Tevatron\\n  Collider',\n",
       "  0.69643986),\n",
       " ('Non-SUSY Searches at the Tevatron', 0.69399834),\n",
       " ('Searches for new physics at the Tevatron', 0.6828933),\n",
       " ('Model Independent Search For New Physics At The Tevatron', 0.6795386),\n",
       " ('Considerations in the Interpretation of Cosmological Anomalies', 0.6762587),\n",
       " ('Search for Anomalous Production of Events with Two Photons and\\n  Additional Energetic Objects at CDF',\n",
       "  0.6749262),\n",
       " ('Large Jet Multiplicities and New Physics at the LHC', 0.67225295),\n",
       " ('Results Of A Model-Independent Global Search For New Physics At CDF',\n",
       "  0.6642769),\n",
       " ('Global Search for New Physics with 2.0/fb at CDF', 0.66402626),\n",
       " ('Interplay of Direct and Indirect Searches for New Physics', 0.6594846),\n",
       " ('Searches for New Particles and Interactions', 0.6557854)]"
      ]
     },
     "execution_count": 14,
     "metadata": {},
     "output_type": "execute_result"
    }
   ],
   "source": [
    "# Search for similar documents\n",
    "query = \"Finding New Physics without learning about it: Anomaly Detection as a tool for Searches at Colliders\"\n",
    "D, I = index.index.search(index.model.encode(query).reshape(1, -1), 15)\n",
    "[(data.iloc[idx].title, score) for idx, score in zip(I[0], D[0]) if idx in list(data.index)]"
   ]
  },
  {
   "cell_type": "code",
   "execution_count": null,
   "metadata": {},
   "outputs": [],
   "source": [
    "original = pd.read_json(\"data/arxiv.json\", lines=True)"
   ]
  },
  {
   "cell_type": "code",
   "execution_count": 17,
   "metadata": {},
   "outputs": [
    {
     "data": {
      "text/plain": [
       "'A Super Bubble Candidate in the Galactic Center and a Local Enhancement\\n  G359.77-0.09'"
      ]
     },
     "execution_count": 17,
     "metadata": {},
     "output_type": "execute_result"
    }
   ],
   "source": [
    "data.iloc[124321].title"
   ]
  },
  {
   "cell_type": "code",
   "execution_count": 18,
   "metadata": {},
   "outputs": [
    {
     "data": {
      "text/plain": [
       "[('A Super Bubble Candidate in the Galactic Center and a Local Enhancement\\n  G359.77-0.09',\n",
       "  0.79220134),\n",
       " ('Fermi Bubbles and Bubble-like emission from the Galactic Plane', 0.7287574),\n",
       " ('Giant Gamma-ray Bubbles from Fermi-LAT: AGN Activity or Bipolar Galactic\\n  Wind?',\n",
       "  0.71087974),\n",
       " (\"What's in a Fermi Bubble: a quasar episode in the Galactic centre\",\n",
       "  0.6959878),\n",
       " ('A diffuse bubble-like radio-halo source MRC 0116+111: imprint of AGN\\n  feedback in a low-mass cluster of galaxies',\n",
       "  0.68884975),\n",
       " ('The Fermi Bubbles: Giant, Multi-Billion-Year-Old Reservoirs of Galactic\\n  Center Cosmic Rays',\n",
       "  0.6878665),\n",
       " ('Kinematical and Physical properties of a 700 pc large bubble in NGC 6946',\n",
       "  0.687588),\n",
       " ('Massive Star Forming Regions in the Galaxy using the Spitzer GLIMPSE\\n  Survey',\n",
       "  0.68454164),\n",
       " ('The Fermi Bubbles: Supersonic AGN Jets with Anisotropic Cosmic Ray\\n  Diffusion',\n",
       "  0.6836057),\n",
       " ('The Fermi Bubbles. I. Possible Evidence for Recent AGN Jet Activity in\\n  the Galaxy',\n",
       "  0.6821947),\n",
       " ('Fermi Bubbles in the Milky Way: the closest AGN feedback laboratory\\n  courtesy of Sgr A*?',\n",
       "  0.68171036),\n",
       " ('Report from Sessions 1 and 3, including the Local Bubble Debate',\n",
       "  0.6794962),\n",
       " ('Rising Jet-Inflated Bubbles in Clusters of Galaxies', 0.67893314),\n",
       " (\"The Milky Way's Fermi Bubbles: Echoes of the Last Quasar Outburst?\",\n",
       "  0.67780566),\n",
       " ('Galactic centre star formation writ large in gamma-rays', 0.6724446)]"
      ]
     },
     "execution_count": 18,
     "metadata": {},
     "output_type": "execute_result"
    }
   ],
   "source": [
    "# Search for similar documents\n",
    "query = \"A Super Bubble Candidate in the Galactic Center and a Local Enhancement\"\n",
    "D, I = index.index.search(index.model.encode(query).reshape(1, -1), 15)\n",
    "[(data.iloc[idx].title, score) for idx, score in zip(I[0], D[0]) if idx in list(data.index)]"
   ]
  },
  {
   "cell_type": "code",
   "execution_count": null,
   "metadata": {},
   "outputs": [],
   "source": [
    "I.shape, D.shape"
   ]
  },
  {
   "cell_type": "code",
   "execution_count": 1,
   "metadata": {},
   "outputs": [],
   "source": [
    "import pandas as pd"
   ]
  },
  {
   "cell_type": "code",
   "execution_count": 6,
   "metadata": {},
   "outputs": [
    {
     "data": {
      "text/html": [
       "<div>\n",
       "<style scoped>\n",
       "    .dataframe tbody tr th:only-of-type {\n",
       "        vertical-align: middle;\n",
       "    }\n",
       "\n",
       "    .dataframe tbody tr th {\n",
       "        vertical-align: top;\n",
       "    }\n",
       "\n",
       "    .dataframe thead th {\n",
       "        text-align: right;\n",
       "    }\n",
       "</style>\n",
       "<table border=\"1\" class=\"dataframe\">\n",
       "  <thead>\n",
       "    <tr style=\"text-align: right;\">\n",
       "      <th></th>\n",
       "      <th>0</th>\n",
       "      <th>1</th>\n",
       "      <th>2</th>\n",
       "    </tr>\n",
       "  </thead>\n",
       "  <tbody>\n",
       "    <tr>\n",
       "      <th>0</th>\n",
       "      <td>We show that a determinant of Stirling cycle...</td>\n",
       "      <td>A determinant of Stirling cycle numbers counts...</td>\n",
       "      <td>https://arxiv.org/abs/0704.0004</td>\n",
       "    </tr>\n",
       "  </tbody>\n",
       "</table>\n",
       "</div>"
      ],
      "text/plain": [
       "                                                   0  \\\n",
       "0    We show that a determinant of Stirling cycle...   \n",
       "\n",
       "                                                   1  \\\n",
       "0  A determinant of Stirling cycle numbers counts...   \n",
       "\n",
       "                                 2  \n",
       "0  https://arxiv.org/abs/0704.0004  "
      ]
     },
     "execution_count": 6,
     "metadata": {},
     "output_type": "execute_result"
    }
   ],
   "source": [
    "# Read with no index\n",
    "pd.read_csv('data/arxiv_processed.csv', nrows=1, skiprows=4, index_col=False, header=None)"
   ]
  },
  {
   "cell_type": "code",
   "execution_count": 7,
   "metadata": {},
   "outputs": [],
   "source": [
    "df = pd.read_csv('data/arxiv_processed.csv')"
   ]
  },
  {
   "cell_type": "code",
   "execution_count": 8,
   "metadata": {},
   "outputs": [
    {
     "data": {
      "text/plain": [
       "Index(['abstract', 'title', 'url'], dtype='object')"
      ]
     },
     "execution_count": 8,
     "metadata": {},
     "output_type": "execute_result"
    }
   ],
   "source": [
    "df.columns"
   ]
  },
  {
   "cell_type": "code",
   "execution_count": null,
   "metadata": {},
   "outputs": [],
   "source": []
  }
 ],
 "metadata": {
  "kernelspec": {
   "display_name": "recommender_system",
   "language": "python",
   "name": "python3"
  },
  "language_info": {
   "codemirror_mode": {
    "name": "ipython",
    "version": 3
   },
   "file_extension": ".py",
   "mimetype": "text/x-python",
   "name": "python",
   "nbconvert_exporter": "python",
   "pygments_lexer": "ipython3",
   "version": "3.10.9 (main, Jan 11 2023, 15:21:40) [GCC 11.2.0]"
  },
  "orig_nbformat": 4,
  "vscode": {
   "interpreter": {
    "hash": "332eeb99b19f93cdcfadbcf6091bdd96459974249d64b832adc62e36c100e5dd"
   }
  }
 },
 "nbformat": 4,
 "nbformat_minor": 2
}
